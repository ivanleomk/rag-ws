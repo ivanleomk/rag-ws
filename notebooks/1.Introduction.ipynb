{
 "cells": [
  {
   "cell_type": "markdown",
   "id": "65d0198a-b8b5-437f-b9a8-86f8acfe091e",
   "metadata": {},
   "source": [
    "# Introduction"
   ]
  },
  {
   "cell_type": "markdown",
   "id": "c1449822-741f-4601-8a3b-5ccfbd4deab2",
   "metadata": {},
   "source": [
    "We'll be using OpenAI's embeddings for this course so make sure that you've set up a `OPENAI_API_KEY` variable in your shell so that you can run the commands easily out of the box.\n",
    "\n",
    "Before starting this part, make sure that you have ran the `setup.py` file so that we have a lancedb db that is populated with the first 1000 entries of the ms-marco dataset. Depending on the internet, this might take a while so do make sure that you have completed this step before the workshop"
   ]
  },
  {
   "cell_type": "markdown",
   "id": "0d6e75d3-8813-4731-8024-5574dc3e49f7",
   "metadata": {},
   "source": [
    "# N Levels of Complexity for Rag\n",
    "\n",
    "Instead of evaluating your pipelines with a collection of randomly sampled questions, we'll show you today how to quantitatively evaluate your pipeline using a set of easy metrics to collect. "
   ]
  },
  {
   "cell_type": "code",
   "execution_count": 21,
   "id": "e9979970-473e-4253-adbc-db32c555ec5e",
   "metadata": {},
   "outputs": [
    {
     "name": "stderr",
     "output_type": "stream",
     "text": [
      "100%|███████████████████████████████████████████████████████████████████████████████████████████████████████████████████████████████████████████████████████████████████████████████████████████████████████████████████████████████████████████████████████████████████████████████████████████████████████████████████████████████████████████████████| 196/196 [00:04<00:00, 46.05it/s]\n"
     ]
    },
    {
     "data": {
      "text/plain": [
       "mrr@3        0.352857\n",
       "mrr@5        0.399541\n",
       "mrr@10       0.426036\n",
       "mrr@15       0.428352\n",
       "mrr@25       0.429378\n",
       "recall@3     0.515306\n",
       "recall@5     0.719388\n",
       "recall@10    0.903061\n",
       "recall@15    0.933673\n",
       "recall@25    0.954082\n",
       "dtype: float64"
      ]
     },
     "execution_count": 21,
     "metadata": {},
     "output_type": "execute_result"
    }
   ],
   "source": [
    "from lib.query import get_test_queries,get_ms_marco_table,get_k_relevant_chunk_ids\n",
    "from lib.eval import score\n",
    "from tqdm import tqdm\n",
    "import pandas as pd\n",
    "\n",
    "test_queries = get_test_queries()\n",
    "table = get_ms_marco_table()\n",
    "\n",
    "scores = []\n",
    "for query in tqdm(test_queries):\n",
    "    retrieved_chunk_ids = get_k_relevant_chunk_ids(table,query['query'],25)\n",
    "    evaluation_metrics = score(retrieved_chunk_ids,query['selected_chunk_id'])\n",
    "    scores.append(evaluation_metrics)\n",
    "\n",
    "df = pd.DataFrame(scores)\n",
    "df.mean()"
   ]
  },
  {
   "cell_type": "markdown",
   "id": "0b2d7bf9-2384-4fc5-a54f-597d691ec74d",
   "metadata": {},
   "source": [
    "# LanceDB"
   ]
  },
  {
   "cell_type": "markdown",
   "id": "bed516cc-4dcd-4f66-b6fc-2af49a52ef0d",
   "metadata": {},
   "source": [
    "In this section, we'll be showing you can create a lancedb database, define a new table based off a Pydantic Schema, ingest some data AND perform semantic search and full text search in under 40 lines of code."
   ]
  },
  {
   "cell_type": "code",
   "execution_count": 22,
   "id": "5bb444a7-071f-48f6-8d2a-f1fe83a9f2ff",
   "metadata": {},
   "outputs": [
    {
     "name": "stderr",
     "output_type": "stream",
     "text": [
      "[2024-05-28T03:11:04Z WARN  lance::dataset] No existing dataset at /Users/ivanleo/Documents/rag-ws/notebooks/lance-db/sample_table.lance, it will be created\n"
     ]
    },
    {
     "name": "stdout",
     "output_type": "stream",
     "text": [
      "(Semantic) text: The Capital of France is Paris, vector: [0.02606566995382309, 0.020613687112927437], distance: 509.274\n",
      "\n",
      "(Semantic) text: Twitter is a popular web application, vector: [0.004940158687531948, -0.047189969569444656], distance: 511.712\n",
      "\n",
      "(Semantic) text: How long do you need for sydney and surrounding areas, vector: [0.0089243920519948, 0.022282233461737633], distance: 511.903\n",
      "\n",
      "(Full Text Search) text: The Capital of France is Paris, vector: [0.02606566995382309, 0.020613687112927437], distance: 0.892\n",
      "\n",
      "(Full Text Search) text: How long do you need for sydney and surrounding areas, vector: [0.0089243920519948, 0.022282233461737633], distance: 1.605\n",
      "\n",
      "(Full Text Search) text: Twitter is a popular web application, vector: [0.004940158687531948, -0.047189969569444656], distance: 1.806\n",
      "\n"
     ]
    }
   ],
   "source": [
    "import lancedb\n",
    "from lancedb.pydantic import LanceModel, Vector\n",
    "from lancedb.embeddings import get_registry\n",
    "import numpy as np\n",
    "\n",
    "# Connect to the database\n",
    "db = lancedb.connect(\"./lance-db\")\n",
    "\n",
    "# Configure our Database Schema\n",
    "func = get_registry().get(\"openai\").create(name=\"text-embedding-3-small\")\n",
    "class Entry(LanceModel):\n",
    "    vector: Vector(func.ndims()) = func.VectorField()\n",
    "    text: str = func.SourceField()\n",
    "\n",
    "table = db.create_table(\"sample_table\",schema=Entry,mode=\"overwrite\")\n",
    "\n",
    "# Ingest data into our database\n",
    "sample_data = [\n",
    "    \"The Capital of France is Paris\",\n",
    "    \"How long do you need for sydney and surrounding areas\",\n",
    "    \"Twitter is a popular web application\"\n",
    "]\n",
    "table.add([{\"text\":item} for item in sample_data])\n",
    "table.create_fts_index(\"text\",replace=True)\n",
    "\n",
    "# Vector Search\n",
    "results = table.search(np.random.random((1536))) \\\n",
    "    .limit(10) \\\n",
    "    .to_list()\n",
    "\n",
    "for result in results:\n",
    "    print(f\"(Semantic) text: {result['text']}, vector: {result['vector'][:2]}, distance: {round(result['_distance'],3)}\\n\")\n",
    "\n",
    "# Vector Search\n",
    "results = table.search(\"What's a good place to visit in France?\") \\\n",
    "    .limit(10) \\\n",
    "    .to_list()\n",
    "\n",
    "for result in results:\n",
    "    print(f\"(Full Text Search) text: {result['text']}, vector: {result['vector'][:2]}, distance: {round(result['_distance'],3)}\\n\")"
   ]
  },
  {
   "cell_type": "markdown",
   "id": "16e1b872-e516-4664-b6ac-310b58aebe92",
   "metadata": {},
   "source": [
    "## Exercises\n",
    "\n",
    "Now that we've seen how easy it is to get started with LanceDB, we can start focusing on some of the most common problems that we'd face when ingesting data\n",
    "\n",
    "1. How do I store metadata?\n",
    "2. How can I compute some derived fields from my text chunks\n",
    "3. How does filtering of results work?\n",
    "4. How can I do deduplication on my data so that I don't have duplicate chunked text\n",
    "\n",
    "In the next few examples, we'll show you guys how to perform these basic operations"
   ]
  },
  {
   "cell_type": "markdown",
   "id": "0d4c0144-dcdf-4c4f-855d-81f695cec7c9",
   "metadata": {},
   "source": [
    "### Setup\n",
    "\n",
    "Run this command before proceeding with the exercises. The exercises should be done in order"
   ]
  },
  {
   "cell_type": "code",
   "execution_count": 23,
   "id": "0fa663c0-d203-4a28-9096-cdd330e94735",
   "metadata": {},
   "outputs": [],
   "source": [
    "import json\n",
    "\n",
    "with open(\"./tools.json\", \"r\") as file:\n",
    "    data = json.loads(file.read())"
   ]
  },
  {
   "cell_type": "markdown",
   "id": "7448e403-9676-4bfc-9fc4-e982b3babf32",
   "metadata": {},
   "source": [
    "data"
   ]
  },
  {
   "cell_type": "code",
   "execution_count": 24,
   "id": "2345e436-a8d4-4f20-9ed2-483aeb82d65f",
   "metadata": {},
   "outputs": [
    {
     "data": {
      "text/plain": [
       "[{'name': 'Hammer',\n",
       "  'description': 'A tool with a heavy metal head mounted at right angles at the end of a handle, used for jobs such as breaking things and driving in nails.',\n",
       "  'category': 'Hand Tool'},\n",
       " {'name': 'Screwdriver',\n",
       "  'description': 'A tool with a flattened, cross-shaped, or star-shaped tip that fits into the head of a screw to turn it.',\n",
       "  'category': 'Hand Tool'},\n",
       " {'name': 'Electric Drill',\n",
       "  'description': 'A power tool fitted with a cutting tool attachment or driving tool attachment, usually a drill bit or driver bit, used for boring holes in various materials or fastening various materials together.',\n",
       "  'category': 'Power Tool'},\n",
       " {'name': 'Wrench',\n",
       "  'description': 'A tool used for gripping and turning nuts, bolts, pipes, etc.',\n",
       "  'category': 'Hand Tool'},\n",
       " {'name': 'Pliers',\n",
       "  'description': 'A hand tool used to hold objects firmly, possibly developed from tongs used to handle hot metal in Bronze Age Europe.',\n",
       "  'category': 'Hand Tool'},\n",
       " {'name': 'Circular Saw',\n",
       "  'description': 'A power-saw using a toothed or abrasive disc or blade to cut different materials using a rotary motion spinning around an arbor.',\n",
       "  'category': 'Power Tool'},\n",
       " {'name': 'Tape Measure',\n",
       "  'description': 'A flexible ruler used to measure size or distance, consisting of a ribbon of cloth, plastic, fiber glass, or metal strip with linear-measurement markings.',\n",
       "  'category': 'Measuring Tool'},\n",
       " {'name': 'Chisel',\n",
       "  'description': 'A tool with a characteristically shaped cutting edge of blade on its end, for carving or cutting a hard material such as wood, stone, or metal.',\n",
       "  'category': 'Hand Tool'},\n",
       " {'name': 'Level',\n",
       "  'description': 'An instrument designed to indicate whether a surface is horizontal (level) or vertical (plumb).',\n",
       "  'category': 'Measuring Tool'},\n",
       " {'name': 'Jigsaw',\n",
       "  'description': 'A power tool used for cutting arbitrary curves, such as stenciled designs or other custom shapes, in wood, metal, or other materials.',\n",
       "  'category': 'Power Tool'},\n",
       " {'name': 'Allen Wrench',\n",
       "  'description': 'A tool used to drive bolts and screws with hexagonal sockets in their heads.',\n",
       "  'category': 'Hand Tool'},\n",
       " {'name': 'Socket Wrench',\n",
       "  'description': 'A wrench with a socket attached at one end, usually used to turn a fastener.',\n",
       "  'category': 'Hand Tool'},\n",
       " {'name': 'Hacksaw',\n",
       "  'description': 'A fine-toothed saw, originally and mainly made for cutting metal.',\n",
       "  'category': 'Hand Tool'},\n",
       " {'name': 'Multimeter',\n",
       "  'description': 'An electronic measuring instrument that combines several measurement functions in one unit.',\n",
       "  'category': 'Measuring Tool'},\n",
       " {'name': 'Soldering Iron',\n",
       "  'description': 'A hand tool used in soldering, which supplies heat to melt solder so that it can flow into the joint between two workpieces.',\n",
       "  'category': 'Hand Tool'},\n",
       " {'name': 'Angle Grinder',\n",
       "  'description': 'A handheld power tool used for grinding (abrasive cutting) and polishing.',\n",
       "  'category': 'Power Tool'}]"
      ]
     },
     "execution_count": 24,
     "metadata": {},
     "output_type": "execute_result"
    }
   ],
   "source": [
    "data"
   ]
  },
  {
   "cell_type": "code",
   "execution_count": 25,
   "id": "9b93b7bd-75db-4644-9f32-459d4faaa1c0",
   "metadata": {},
   "outputs": [],
   "source": [
    "db = lancedb.connect(\"./lance-db\")\n",
    "\n",
    "# Delete all tables in db\n",
    "for table in db.table_names():\n",
    "    db.drop_table(table)"
   ]
  },
  {
   "cell_type": "markdown",
   "id": "de87e9f6-f3db-46d8-95ac-e16e46897c6a",
   "metadata": {},
   "source": [
    "### Adding metadata\n",
    "\n",
    "Try to create table which has information on the name, description and category of the item. Make sure to also embed the description using the `OpenAI` embedding function text-embedding-3-small model"
   ]
  },
  {
   "cell_type": "code",
   "execution_count": 26,
   "id": "9b4894a5-3f2d-45e7-90ae-1762ab1dc369",
   "metadata": {},
   "outputs": [
    {
     "name": "stderr",
     "output_type": "stream",
     "text": [
      "[2024-05-28T03:11:07Z WARN  lance::dataset] No existing dataset at /Users/ivanleo/Documents/rag-ws/notebooks/lance-db/tool_v1.lance, it will be created\n"
     ]
    }
   ],
   "source": [
    "# Create the Pydantic Schema\n",
    "\n",
    "func = get_registry().get(\"openai\").create(name=\"text-embedding-3-small\")\n",
    "\n",
    "class Tool(LanceModel):\n",
    "    vector: Vector(func.ndims()) = func.VectorField()\n",
    "    description: str = func.SourceField()\n",
    "    name:str\n",
    "    category:str\n",
    "\n",
    "tool_table = db.create_table(\"tool_v1\",schema=Tool,mode=\"overwrite\")"
   ]
  },
  {
   "cell_type": "code",
   "execution_count": 27,
   "id": "e68c5c52-b942-4b62-8095-053a88e18f75",
   "metadata": {},
   "outputs": [],
   "source": [
    "tool_table.add(data)"
   ]
  },
  {
   "cell_type": "code",
   "execution_count": 28,
   "id": "56a32c16-35c6-480c-90ef-cbba4ecc9a7e",
   "metadata": {},
   "outputs": [
    {
     "data": {
      "text/html": [
       "<div>\n",
       "<style scoped>\n",
       "    .dataframe tbody tr th:only-of-type {\n",
       "        vertical-align: middle;\n",
       "    }\n",
       "\n",
       "    .dataframe tbody tr th {\n",
       "        vertical-align: top;\n",
       "    }\n",
       "\n",
       "    .dataframe thead th {\n",
       "        text-align: right;\n",
       "    }\n",
       "</style>\n",
       "<table border=\"1\" class=\"dataframe\">\n",
       "  <thead>\n",
       "    <tr style=\"text-align: right;\">\n",
       "      <th></th>\n",
       "      <th>vector</th>\n",
       "      <th>description</th>\n",
       "      <th>name</th>\n",
       "      <th>category</th>\n",
       "    </tr>\n",
       "  </thead>\n",
       "  <tbody>\n",
       "    <tr>\n",
       "      <th>0</th>\n",
       "      <td>[0.02942855, 0.047012717, 0.004617972, -0.0125...</td>\n",
       "      <td>A tool with a heavy metal head mounted at righ...</td>\n",
       "      <td>Hammer</td>\n",
       "      <td>Hand Tool</td>\n",
       "    </tr>\n",
       "    <tr>\n",
       "      <th>1</th>\n",
       "      <td>[0.018697312, 0.015099513, -0.047086194, -0.01...</td>\n",
       "      <td>A tool with a flattened, cross-shaped, or star...</td>\n",
       "      <td>Screwdriver</td>\n",
       "      <td>Hand Tool</td>\n",
       "    </tr>\n",
       "    <tr>\n",
       "      <th>2</th>\n",
       "      <td>[-0.03568479, 0.013477032, 0.0101103475, -0.01...</td>\n",
       "      <td>A power tool fitted with a cutting tool attach...</td>\n",
       "      <td>Electric Drill</td>\n",
       "      <td>Power Tool</td>\n",
       "    </tr>\n",
       "    <tr>\n",
       "      <th>3</th>\n",
       "      <td>[0.02803261, 0.024098208, -0.026885075, -0.021...</td>\n",
       "      <td>A tool used for gripping and turning nuts, bol...</td>\n",
       "      <td>Wrench</td>\n",
       "      <td>Hand Tool</td>\n",
       "    </tr>\n",
       "    <tr>\n",
       "      <th>4</th>\n",
       "      <td>[0.02052933, 0.014397344, -0.034926675, -0.013...</td>\n",
       "      <td>A hand tool used to hold objects firmly, possi...</td>\n",
       "      <td>Pliers</td>\n",
       "      <td>Hand Tool</td>\n",
       "    </tr>\n",
       "    <tr>\n",
       "      <th>5</th>\n",
       "      <td>[-0.00037332025, 0.033678483, -0.03620599, -0....</td>\n",
       "      <td>A power-saw using a toothed or abrasive disc o...</td>\n",
       "      <td>Circular Saw</td>\n",
       "      <td>Power Tool</td>\n",
       "    </tr>\n",
       "    <tr>\n",
       "      <th>6</th>\n",
       "      <td>[0.020676186, 0.032748703, 0.0079361405, -0.01...</td>\n",
       "      <td>A flexible ruler used to measure size or dista...</td>\n",
       "      <td>Tape Measure</td>\n",
       "      <td>Measuring Tool</td>\n",
       "    </tr>\n",
       "    <tr>\n",
       "      <th>7</th>\n",
       "      <td>[0.06171664, 0.04006746, -0.0073134657, -0.004...</td>\n",
       "      <td>A tool with a characteristically shaped cuttin...</td>\n",
       "      <td>Chisel</td>\n",
       "      <td>Hand Tool</td>\n",
       "    </tr>\n",
       "    <tr>\n",
       "      <th>8</th>\n",
       "      <td>[-0.024902405, 0.054924037, 0.0053345207, -0.0...</td>\n",
       "      <td>An instrument designed to indicate whether a s...</td>\n",
       "      <td>Level</td>\n",
       "      <td>Measuring Tool</td>\n",
       "    </tr>\n",
       "    <tr>\n",
       "      <th>9</th>\n",
       "      <td>[0.014727382, 0.035678905, -0.026631918, -0.03...</td>\n",
       "      <td>A power tool used for cutting arbitrary curves...</td>\n",
       "      <td>Jigsaw</td>\n",
       "      <td>Power Tool</td>\n",
       "    </tr>\n",
       "    <tr>\n",
       "      <th>10</th>\n",
       "      <td>[0.034014557, 0.025256732, 4.1296016e-06, -0.0...</td>\n",
       "      <td>A tool used to drive bolts and screws with hex...</td>\n",
       "      <td>Allen Wrench</td>\n",
       "      <td>Hand Tool</td>\n",
       "    </tr>\n",
       "    <tr>\n",
       "      <th>11</th>\n",
       "      <td>[0.013575321, 0.014992961, -0.020640839, -0.00...</td>\n",
       "      <td>A wrench with a socket attached at one end, us...</td>\n",
       "      <td>Socket Wrench</td>\n",
       "      <td>Hand Tool</td>\n",
       "    </tr>\n",
       "    <tr>\n",
       "      <th>12</th>\n",
       "      <td>[0.0193977, 0.04276311, -0.040092036, -0.03646...</td>\n",
       "      <td>A fine-toothed saw, originally and mainly made...</td>\n",
       "      <td>Hacksaw</td>\n",
       "      <td>Hand Tool</td>\n",
       "    </tr>\n",
       "    <tr>\n",
       "      <th>13</th>\n",
       "      <td>[0.0082187895, 0.0144082485, -0.010188434, -0....</td>\n",
       "      <td>An electronic measuring instrument that combin...</td>\n",
       "      <td>Multimeter</td>\n",
       "      <td>Measuring Tool</td>\n",
       "    </tr>\n",
       "    <tr>\n",
       "      <th>14</th>\n",
       "      <td>[0.053213764, 0.004497374, -0.060332965, -0.05...</td>\n",
       "      <td>A hand tool used in soldering, which supplies ...</td>\n",
       "      <td>Soldering Iron</td>\n",
       "      <td>Hand Tool</td>\n",
       "    </tr>\n",
       "    <tr>\n",
       "      <th>15</th>\n",
       "      <td>[-0.017129114, 0.043062504, -0.032209706, 0.01...</td>\n",
       "      <td>A handheld power tool used for grinding (abras...</td>\n",
       "      <td>Angle Grinder</td>\n",
       "      <td>Power Tool</td>\n",
       "    </tr>\n",
       "  </tbody>\n",
       "</table>\n",
       "</div>"
      ],
      "text/plain": [
       "                                               vector  \\\n",
       "0   [0.02942855, 0.047012717, 0.004617972, -0.0125...   \n",
       "1   [0.018697312, 0.015099513, -0.047086194, -0.01...   \n",
       "2   [-0.03568479, 0.013477032, 0.0101103475, -0.01...   \n",
       "3   [0.02803261, 0.024098208, -0.026885075, -0.021...   \n",
       "4   [0.02052933, 0.014397344, -0.034926675, -0.013...   \n",
       "5   [-0.00037332025, 0.033678483, -0.03620599, -0....   \n",
       "6   [0.020676186, 0.032748703, 0.0079361405, -0.01...   \n",
       "7   [0.06171664, 0.04006746, -0.0073134657, -0.004...   \n",
       "8   [-0.024902405, 0.054924037, 0.0053345207, -0.0...   \n",
       "9   [0.014727382, 0.035678905, -0.026631918, -0.03...   \n",
       "10  [0.034014557, 0.025256732, 4.1296016e-06, -0.0...   \n",
       "11  [0.013575321, 0.014992961, -0.020640839, -0.00...   \n",
       "12  [0.0193977, 0.04276311, -0.040092036, -0.03646...   \n",
       "13  [0.0082187895, 0.0144082485, -0.010188434, -0....   \n",
       "14  [0.053213764, 0.004497374, -0.060332965, -0.05...   \n",
       "15  [-0.017129114, 0.043062504, -0.032209706, 0.01...   \n",
       "\n",
       "                                          description            name  \\\n",
       "0   A tool with a heavy metal head mounted at righ...          Hammer   \n",
       "1   A tool with a flattened, cross-shaped, or star...     Screwdriver   \n",
       "2   A power tool fitted with a cutting tool attach...  Electric Drill   \n",
       "3   A tool used for gripping and turning nuts, bol...          Wrench   \n",
       "4   A hand tool used to hold objects firmly, possi...          Pliers   \n",
       "5   A power-saw using a toothed or abrasive disc o...    Circular Saw   \n",
       "6   A flexible ruler used to measure size or dista...    Tape Measure   \n",
       "7   A tool with a characteristically shaped cuttin...          Chisel   \n",
       "8   An instrument designed to indicate whether a s...           Level   \n",
       "9   A power tool used for cutting arbitrary curves...          Jigsaw   \n",
       "10  A tool used to drive bolts and screws with hex...    Allen Wrench   \n",
       "11  A wrench with a socket attached at one end, us...   Socket Wrench   \n",
       "12  A fine-toothed saw, originally and mainly made...         Hacksaw   \n",
       "13  An electronic measuring instrument that combin...      Multimeter   \n",
       "14  A hand tool used in soldering, which supplies ...  Soldering Iron   \n",
       "15  A handheld power tool used for grinding (abras...   Angle Grinder   \n",
       "\n",
       "          category  \n",
       "0        Hand Tool  \n",
       "1        Hand Tool  \n",
       "2       Power Tool  \n",
       "3        Hand Tool  \n",
       "4        Hand Tool  \n",
       "5       Power Tool  \n",
       "6   Measuring Tool  \n",
       "7        Hand Tool  \n",
       "8   Measuring Tool  \n",
       "9       Power Tool  \n",
       "10       Hand Tool  \n",
       "11       Hand Tool  \n",
       "12       Hand Tool  \n",
       "13  Measuring Tool  \n",
       "14       Hand Tool  \n",
       "15      Power Tool  "
      ]
     },
     "execution_count": 28,
     "metadata": {},
     "output_type": "execute_result"
    }
   ],
   "source": [
    "tool_table.to_pandas()"
   ]
  },
  {
   "cell_type": "markdown",
   "id": "19189ad1-6649-45a6-baf5-f3e9db217dcd",
   "metadata": {},
   "source": [
    "### Computing a field\n",
    "\n",
    "Let's now try to compute a chunk_id which identifies a unique description and name using the `hashlib` library in python"
   ]
  },
  {
   "cell_type": "code",
   "execution_count": 29,
   "id": "c1f9ef27-654f-4043-9e96-a95fda2fd043",
   "metadata": {},
   "outputs": [
    {
     "name": "stderr",
     "output_type": "stream",
     "text": [
      "[2024-05-28T03:11:08Z WARN  lance::dataset] No existing dataset at /Users/ivanleo/Documents/rag-ws/notebooks/lance-db/tool_v2.lance, it will be created\n"
     ]
    }
   ],
   "source": [
    "# Create the Pydantic Schema\n",
    "\n",
    "func = get_registry().get(\"openai\").create(name=\"text-embedding-3-small\")\n",
    "\n",
    "class Tool(LanceModel):\n",
    "    vector: Vector(func.ndims()) = func.VectorField()\n",
    "    description: str = func.SourceField()\n",
    "    name:str\n",
    "    category:str\n",
    "    tool_id:str\n",
    "\n",
    "tool_table = db.create_table(\"tool_v2\",schema=Tool,mode=\"overwrite\")"
   ]
  },
  {
   "cell_type": "code",
   "execution_count": 30,
   "id": "7fb73f9a-f935-4697-9478-c0fa8521bf26",
   "metadata": {},
   "outputs": [
    {
     "data": {
      "text/html": [
       "<div>\n",
       "<style scoped>\n",
       "    .dataframe tbody tr th:only-of-type {\n",
       "        vertical-align: middle;\n",
       "    }\n",
       "\n",
       "    .dataframe tbody tr th {\n",
       "        vertical-align: top;\n",
       "    }\n",
       "\n",
       "    .dataframe thead th {\n",
       "        text-align: right;\n",
       "    }\n",
       "</style>\n",
       "<table border=\"1\" class=\"dataframe\">\n",
       "  <thead>\n",
       "    <tr style=\"text-align: right;\">\n",
       "      <th></th>\n",
       "      <th>vector</th>\n",
       "      <th>description</th>\n",
       "      <th>name</th>\n",
       "      <th>category</th>\n",
       "      <th>tool_id</th>\n",
       "    </tr>\n",
       "  </thead>\n",
       "  <tbody>\n",
       "    <tr>\n",
       "      <th>0</th>\n",
       "      <td>[0.029243259, 0.046320148, 0.0031912285, -0.00...</td>\n",
       "      <td>A tool with a heavy metal head mounted at righ...</td>\n",
       "      <td>Hammer</td>\n",
       "      <td>Hand Tool</td>\n",
       "      <td>5127eb88579d6565b794833acf0eff6e</td>\n",
       "    </tr>\n",
       "    <tr>\n",
       "      <th>1</th>\n",
       "      <td>[0.018722245, 0.01513522, -0.047092352, -0.010...</td>\n",
       "      <td>A tool with a flattened, cross-shaped, or star...</td>\n",
       "      <td>Screwdriver</td>\n",
       "      <td>Hand Tool</td>\n",
       "      <td>18ffc6ead466b6e270e8a970544510d3</td>\n",
       "    </tr>\n",
       "    <tr>\n",
       "      <th>2</th>\n",
       "      <td>[-0.03569433, 0.013480635, 0.010113051, -0.019...</td>\n",
       "      <td>A power tool fitted with a cutting tool attach...</td>\n",
       "      <td>Electric Drill</td>\n",
       "      <td>Power Tool</td>\n",
       "      <td>ad1d1aac2c439006635c48d6969d2a8f</td>\n",
       "    </tr>\n",
       "    <tr>\n",
       "      <th>3</th>\n",
       "      <td>[0.028033728, 0.02412259, -0.026932988, -0.021...</td>\n",
       "      <td>A tool used for gripping and turning nuts, bol...</td>\n",
       "      <td>Wrench</td>\n",
       "      <td>Hand Tool</td>\n",
       "      <td>bbf94b44b5866f023b2b8b5491657dd3</td>\n",
       "    </tr>\n",
       "    <tr>\n",
       "      <th>4</th>\n",
       "      <td>[0.02175587, 0.013911997, -0.03692618, -0.0119...</td>\n",
       "      <td>A hand tool used to hold objects firmly, possi...</td>\n",
       "      <td>Pliers</td>\n",
       "      <td>Hand Tool</td>\n",
       "      <td>36d03bc35bdddd89da298675e5c0cd73</td>\n",
       "    </tr>\n",
       "    <tr>\n",
       "      <th>5</th>\n",
       "      <td>[-0.0005456097, 0.033061855, -0.03701373, -0.0...</td>\n",
       "      <td>A power-saw using a toothed or abrasive disc o...</td>\n",
       "      <td>Circular Saw</td>\n",
       "      <td>Power Tool</td>\n",
       "      <td>61051798477a715f7e2e09df8880a8ee</td>\n",
       "    </tr>\n",
       "    <tr>\n",
       "      <th>6</th>\n",
       "      <td>[0.020711862, 0.03277381, 0.007930988, -0.0128...</td>\n",
       "      <td>A flexible ruler used to measure size or dista...</td>\n",
       "      <td>Tape Measure</td>\n",
       "      <td>Measuring Tool</td>\n",
       "      <td>8bd1313982c2bd9313f1ac304ac43f8b</td>\n",
       "    </tr>\n",
       "    <tr>\n",
       "      <th>7</th>\n",
       "      <td>[0.061667863, 0.0399984, -0.0072744344, -0.004...</td>\n",
       "      <td>A tool with a characteristically shaped cuttin...</td>\n",
       "      <td>Chisel</td>\n",
       "      <td>Hand Tool</td>\n",
       "      <td>d65a66bc9595fa8a1247bcdcbe5a0a37</td>\n",
       "    </tr>\n",
       "    <tr>\n",
       "      <th>8</th>\n",
       "      <td>[-0.024902405, 0.054924037, 0.0053345207, -0.0...</td>\n",
       "      <td>An instrument designed to indicate whether a s...</td>\n",
       "      <td>Level</td>\n",
       "      <td>Measuring Tool</td>\n",
       "      <td>356a50889baebb01c83c2b33eba1187c</td>\n",
       "    </tr>\n",
       "    <tr>\n",
       "      <th>9</th>\n",
       "      <td>[0.014716265, 0.03568, -0.026632737, -0.033990...</td>\n",
       "      <td>A power tool used for cutting arbitrary curves...</td>\n",
       "      <td>Jigsaw</td>\n",
       "      <td>Power Tool</td>\n",
       "      <td>dda7672a25896af487fef054e3775f2a</td>\n",
       "    </tr>\n",
       "  </tbody>\n",
       "</table>\n",
       "</div>"
      ],
      "text/plain": [
       "                                              vector  \\\n",
       "0  [0.029243259, 0.046320148, 0.0031912285, -0.00...   \n",
       "1  [0.018722245, 0.01513522, -0.047092352, -0.010...   \n",
       "2  [-0.03569433, 0.013480635, 0.010113051, -0.019...   \n",
       "3  [0.028033728, 0.02412259, -0.026932988, -0.021...   \n",
       "4  [0.02175587, 0.013911997, -0.03692618, -0.0119...   \n",
       "5  [-0.0005456097, 0.033061855, -0.03701373, -0.0...   \n",
       "6  [0.020711862, 0.03277381, 0.007930988, -0.0128...   \n",
       "7  [0.061667863, 0.0399984, -0.0072744344, -0.004...   \n",
       "8  [-0.024902405, 0.054924037, 0.0053345207, -0.0...   \n",
       "9  [0.014716265, 0.03568, -0.026632737, -0.033990...   \n",
       "\n",
       "                                         description            name  \\\n",
       "0  A tool with a heavy metal head mounted at righ...          Hammer   \n",
       "1  A tool with a flattened, cross-shaped, or star...     Screwdriver   \n",
       "2  A power tool fitted with a cutting tool attach...  Electric Drill   \n",
       "3  A tool used for gripping and turning nuts, bol...          Wrench   \n",
       "4  A hand tool used to hold objects firmly, possi...          Pliers   \n",
       "5  A power-saw using a toothed or abrasive disc o...    Circular Saw   \n",
       "6  A flexible ruler used to measure size or dista...    Tape Measure   \n",
       "7  A tool with a characteristically shaped cuttin...          Chisel   \n",
       "8  An instrument designed to indicate whether a s...           Level   \n",
       "9  A power tool used for cutting arbitrary curves...          Jigsaw   \n",
       "\n",
       "         category                           tool_id  \n",
       "0       Hand Tool  5127eb88579d6565b794833acf0eff6e  \n",
       "1       Hand Tool  18ffc6ead466b6e270e8a970544510d3  \n",
       "2      Power Tool  ad1d1aac2c439006635c48d6969d2a8f  \n",
       "3       Hand Tool  bbf94b44b5866f023b2b8b5491657dd3  \n",
       "4       Hand Tool  36d03bc35bdddd89da298675e5c0cd73  \n",
       "5      Power Tool  61051798477a715f7e2e09df8880a8ee  \n",
       "6  Measuring Tool  8bd1313982c2bd9313f1ac304ac43f8b  \n",
       "7       Hand Tool  d65a66bc9595fa8a1247bcdcbe5a0a37  \n",
       "8  Measuring Tool  356a50889baebb01c83c2b33eba1187c  \n",
       "9      Power Tool  dda7672a25896af487fef054e3775f2a  "
      ]
     },
     "execution_count": 30,
     "metadata": {},
     "output_type": "execute_result"
    }
   ],
   "source": [
    "import hashlib\n",
    "\n",
    "encoded_chunks = []\n",
    "for row in data:\n",
    "    name_and_description=f\"{row['description']}-{row['name']}\"\n",
    "    tool_id = hashlib.md5(name_and_description.encode()).hexdigest()\n",
    "    encoded_chunks.append({**row,\"tool_id\":tool_id})\n",
    "\n",
    "tool_table.add(encoded_chunks)\n",
    "tool_table.to_pandas()[:10]"
   ]
  },
  {
   "cell_type": "markdown",
   "id": "d839bfcf-a3c5-43e4-9b3b-b32eca8ef6d2",
   "metadata": {},
   "source": [
    "### Filtering"
   ]
  },
  {
   "cell_type": "markdown",
   "id": "042fc286-f4d4-4668-9da7-b75372bd715e",
   "metadata": {},
   "source": [
    "Now that we've indexed our data inside the field, let's try to retrieve all of the tools which have the category Hand Tool (Note here that we have prefilter=True which allows us to ensure we get the number of elements that we want in the end"
   ]
  },
  {
   "cell_type": "code",
   "execution_count": 31,
   "id": "fe8ff36b-7be0-4703-80ed-e0c2b6a3b609",
   "metadata": {},
   "outputs": [
    {
     "name": "stdout",
     "output_type": "stream",
     "text": [
      "CPU times: user 4.81 ms, sys: 3.5 ms, total: 8.31 ms\n",
      "Wall time: 4.81 ms\n"
     ]
    },
    {
     "data": {
      "text/html": [
       "<div>\n",
       "<style scoped>\n",
       "    .dataframe tbody tr th:only-of-type {\n",
       "        vertical-align: middle;\n",
       "    }\n",
       "\n",
       "    .dataframe tbody tr th {\n",
       "        vertical-align: top;\n",
       "    }\n",
       "\n",
       "    .dataframe thead th {\n",
       "        text-align: right;\n",
       "    }\n",
       "</style>\n",
       "<table border=\"1\" class=\"dataframe\">\n",
       "  <thead>\n",
       "    <tr style=\"text-align: right;\">\n",
       "      <th></th>\n",
       "      <th>name</th>\n",
       "      <th>description</th>\n",
       "      <th>category</th>\n",
       "    </tr>\n",
       "  </thead>\n",
       "  <tbody>\n",
       "    <tr>\n",
       "      <th>0</th>\n",
       "      <td>Hammer</td>\n",
       "      <td>A tool with a heavy metal head mounted at righ...</td>\n",
       "      <td>Hand Tool</td>\n",
       "    </tr>\n",
       "    <tr>\n",
       "      <th>1</th>\n",
       "      <td>Screwdriver</td>\n",
       "      <td>A tool with a flattened, cross-shaped, or star...</td>\n",
       "      <td>Hand Tool</td>\n",
       "    </tr>\n",
       "    <tr>\n",
       "      <th>2</th>\n",
       "      <td>Wrench</td>\n",
       "      <td>A tool used for gripping and turning nuts, bol...</td>\n",
       "      <td>Hand Tool</td>\n",
       "    </tr>\n",
       "    <tr>\n",
       "      <th>3</th>\n",
       "      <td>Pliers</td>\n",
       "      <td>A hand tool used to hold objects firmly, possi...</td>\n",
       "      <td>Hand Tool</td>\n",
       "    </tr>\n",
       "    <tr>\n",
       "      <th>4</th>\n",
       "      <td>Chisel</td>\n",
       "      <td>A tool with a characteristically shaped cuttin...</td>\n",
       "      <td>Hand Tool</td>\n",
       "    </tr>\n",
       "    <tr>\n",
       "      <th>5</th>\n",
       "      <td>Allen Wrench</td>\n",
       "      <td>A tool used to drive bolts and screws with hex...</td>\n",
       "      <td>Hand Tool</td>\n",
       "    </tr>\n",
       "    <tr>\n",
       "      <th>6</th>\n",
       "      <td>Socket Wrench</td>\n",
       "      <td>A wrench with a socket attached at one end, us...</td>\n",
       "      <td>Hand Tool</td>\n",
       "    </tr>\n",
       "    <tr>\n",
       "      <th>7</th>\n",
       "      <td>Hacksaw</td>\n",
       "      <td>A fine-toothed saw, originally and mainly made...</td>\n",
       "      <td>Hand Tool</td>\n",
       "    </tr>\n",
       "    <tr>\n",
       "      <th>8</th>\n",
       "      <td>Soldering Iron</td>\n",
       "      <td>A hand tool used in soldering, which supplies ...</td>\n",
       "      <td>Hand Tool</td>\n",
       "    </tr>\n",
       "  </tbody>\n",
       "</table>\n",
       "</div>"
      ],
      "text/plain": [
       "             name                                        description  \\\n",
       "0          Hammer  A tool with a heavy metal head mounted at righ...   \n",
       "1     Screwdriver  A tool with a flattened, cross-shaped, or star...   \n",
       "2          Wrench  A tool used for gripping and turning nuts, bol...   \n",
       "3          Pliers  A hand tool used to hold objects firmly, possi...   \n",
       "4          Chisel  A tool with a characteristically shaped cuttin...   \n",
       "5    Allen Wrench  A tool used to drive bolts and screws with hex...   \n",
       "6   Socket Wrench  A wrench with a socket attached at one end, us...   \n",
       "7         Hacksaw  A fine-toothed saw, originally and mainly made...   \n",
       "8  Soldering Iron  A hand tool used in soldering, which supplies ...   \n",
       "\n",
       "    category  \n",
       "0  Hand Tool  \n",
       "1  Hand Tool  \n",
       "2  Hand Tool  \n",
       "3  Hand Tool  \n",
       "4  Hand Tool  \n",
       "5  Hand Tool  \n",
       "6  Hand Tool  \n",
       "7  Hand Tool  \n",
       "8  Hand Tool  "
      ]
     },
     "execution_count": 31,
     "metadata": {},
     "output_type": "execute_result"
    }
   ],
   "source": [
    "%%time\n",
    "tool_table = db.open_table(\"tool_v2\")\n",
    "tool_table.search().select([\"name\",\"description\",\"category\"]).where(\"category='Hand Tool'\",prefilter=True).to_pandas()"
   ]
  },
  {
   "cell_type": "markdown",
   "id": "8fe76551-5f59-4e2f-92aa-3f24a35bfea3",
   "metadata": {},
   "source": [
    "Now that we've indexed a single column, let's try now returning rows that have the `Measuring Tool` and `Hand Tool` category"
   ]
  },
  {
   "cell_type": "code",
   "execution_count": 32,
   "id": "d899cc4a-1509-4bfa-ae92-492f34f24b08",
   "metadata": {},
   "outputs": [
    {
     "name": "stdout",
     "output_type": "stream",
     "text": [
      "CPU times: user 5.98 ms, sys: 4.15 ms, total: 10.1 ms\n",
      "Wall time: 8.41 ms\n"
     ]
    },
    {
     "data": {
      "text/html": [
       "<div>\n",
       "<style scoped>\n",
       "    .dataframe tbody tr th:only-of-type {\n",
       "        vertical-align: middle;\n",
       "    }\n",
       "\n",
       "    .dataframe tbody tr th {\n",
       "        vertical-align: top;\n",
       "    }\n",
       "\n",
       "    .dataframe thead th {\n",
       "        text-align: right;\n",
       "    }\n",
       "</style>\n",
       "<table border=\"1\" class=\"dataframe\">\n",
       "  <thead>\n",
       "    <tr style=\"text-align: right;\">\n",
       "      <th></th>\n",
       "      <th>name</th>\n",
       "      <th>description</th>\n",
       "      <th>category</th>\n",
       "    </tr>\n",
       "  </thead>\n",
       "  <tbody>\n",
       "    <tr>\n",
       "      <th>0</th>\n",
       "      <td>Hammer</td>\n",
       "      <td>A tool with a heavy metal head mounted at righ...</td>\n",
       "      <td>Hand Tool</td>\n",
       "    </tr>\n",
       "    <tr>\n",
       "      <th>1</th>\n",
       "      <td>Screwdriver</td>\n",
       "      <td>A tool with a flattened, cross-shaped, or star...</td>\n",
       "      <td>Hand Tool</td>\n",
       "    </tr>\n",
       "    <tr>\n",
       "      <th>2</th>\n",
       "      <td>Wrench</td>\n",
       "      <td>A tool used for gripping and turning nuts, bol...</td>\n",
       "      <td>Hand Tool</td>\n",
       "    </tr>\n",
       "    <tr>\n",
       "      <th>3</th>\n",
       "      <td>Pliers</td>\n",
       "      <td>A hand tool used to hold objects firmly, possi...</td>\n",
       "      <td>Hand Tool</td>\n",
       "    </tr>\n",
       "    <tr>\n",
       "      <th>4</th>\n",
       "      <td>Tape Measure</td>\n",
       "      <td>A flexible ruler used to measure size or dista...</td>\n",
       "      <td>Measuring Tool</td>\n",
       "    </tr>\n",
       "    <tr>\n",
       "      <th>5</th>\n",
       "      <td>Chisel</td>\n",
       "      <td>A tool with a characteristically shaped cuttin...</td>\n",
       "      <td>Hand Tool</td>\n",
       "    </tr>\n",
       "    <tr>\n",
       "      <th>6</th>\n",
       "      <td>Level</td>\n",
       "      <td>An instrument designed to indicate whether a s...</td>\n",
       "      <td>Measuring Tool</td>\n",
       "    </tr>\n",
       "    <tr>\n",
       "      <th>7</th>\n",
       "      <td>Allen Wrench</td>\n",
       "      <td>A tool used to drive bolts and screws with hex...</td>\n",
       "      <td>Hand Tool</td>\n",
       "    </tr>\n",
       "    <tr>\n",
       "      <th>8</th>\n",
       "      <td>Socket Wrench</td>\n",
       "      <td>A wrench with a socket attached at one end, us...</td>\n",
       "      <td>Hand Tool</td>\n",
       "    </tr>\n",
       "    <tr>\n",
       "      <th>9</th>\n",
       "      <td>Hacksaw</td>\n",
       "      <td>A fine-toothed saw, originally and mainly made...</td>\n",
       "      <td>Hand Tool</td>\n",
       "    </tr>\n",
       "  </tbody>\n",
       "</table>\n",
       "</div>"
      ],
      "text/plain": [
       "            name                                        description  \\\n",
       "0         Hammer  A tool with a heavy metal head mounted at righ...   \n",
       "1    Screwdriver  A tool with a flattened, cross-shaped, or star...   \n",
       "2         Wrench  A tool used for gripping and turning nuts, bol...   \n",
       "3         Pliers  A hand tool used to hold objects firmly, possi...   \n",
       "4   Tape Measure  A flexible ruler used to measure size or dista...   \n",
       "5         Chisel  A tool with a characteristically shaped cuttin...   \n",
       "6          Level  An instrument designed to indicate whether a s...   \n",
       "7   Allen Wrench  A tool used to drive bolts and screws with hex...   \n",
       "8  Socket Wrench  A wrench with a socket attached at one end, us...   \n",
       "9        Hacksaw  A fine-toothed saw, originally and mainly made...   \n",
       "\n",
       "         category  \n",
       "0       Hand Tool  \n",
       "1       Hand Tool  \n",
       "2       Hand Tool  \n",
       "3       Hand Tool  \n",
       "4  Measuring Tool  \n",
       "5       Hand Tool  \n",
       "6  Measuring Tool  \n",
       "7       Hand Tool  \n",
       "8       Hand Tool  \n",
       "9       Hand Tool  "
      ]
     },
     "execution_count": 32,
     "metadata": {},
     "output_type": "execute_result"
    }
   ],
   "source": [
    "%%time\n",
    "tool_table = db.open_table(\"tool_v2\")\n",
    "tool_table.search().select([\"name\",\"description\",\"category\"]).where(\"category IN ('Hand Tool','Measuring Tool')\",prefilter=True).to_pandas()"
   ]
  },
  {
   "cell_type": "markdown",
   "id": "61afbaa4-98ee-4c21-8a62-254e7bf538ba",
   "metadata": {},
   "source": [
    "### Deduplication\n",
    "\n",
    "Now that we've ingested the data, we need to make sure we don't have any deduplication of data. To do so, we'll use a second set of tools in `tool_2.json` which has some overlapping entries."
   ]
  },
  {
   "cell_type": "code",
   "execution_count": 33,
   "id": "8a7637f5-4e0a-48d7-a33b-5ba56c88da3d",
   "metadata": {},
   "outputs": [],
   "source": [
    "with open(\"./tools_2.json\", \"r\") as file:\n",
    "    data_2 = json.loads(file.read())"
   ]
  },
  {
   "cell_type": "code",
   "execution_count": 34,
   "id": "28288ee4-2f2d-4e72-906f-fd08d44be5a4",
   "metadata": {},
   "outputs": [
    {
     "data": {
      "text/plain": [
       "(16, 7)"
      ]
     },
     "execution_count": 34,
     "metadata": {},
     "output_type": "execute_result"
    }
   ],
   "source": [
    "tool_table.count_rows(),len(data_2)"
   ]
  },
  {
   "cell_type": "code",
   "execution_count": 35,
   "id": "25e6f321-40cb-4aaa-994f-f9c0ceae067c",
   "metadata": {},
   "outputs": [
    {
     "data": {
      "text/plain": [
       "23"
      ]
     },
     "execution_count": 35,
     "metadata": {},
     "output_type": "execute_result"
    }
   ],
   "source": [
    "tool_table = db.open_table(\"tool_v1\")\n",
    "tool_table.add(data_2)\n",
    "tool_table.count_rows()"
   ]
  },
  {
   "cell_type": "code",
   "execution_count": 36,
   "id": "5de3b175-baa0-4a7b-aef7-54d486eaff9a",
   "metadata": {},
   "outputs": [
    {
     "data": {
      "text/plain": [
       "30"
      ]
     },
     "execution_count": 36,
     "metadata": {},
     "output_type": "execute_result"
    }
   ],
   "source": [
    "tool_table = db.open_table(\"tool_v1\")\n",
    "tool_table.add(data_2)\n",
    "tool_table.count_rows()"
   ]
  },
  {
   "cell_type": "code",
   "execution_count": 37,
   "id": "4b25c878-dbb9-45aa-bdf0-81144ac89fcf",
   "metadata": {},
   "outputs": [],
   "source": [
    "import hashlib\n",
    "\n",
    "encoded_chunks = []\n",
    "for row in data_2:\n",
    "    name_and_description=f\"{row['description']}-{row['name']}\"\n",
    "    chunk_id = hashlib.md5(name_and_description.encode()).hexdigest()\n",
    "    encoded_chunks.append({**row,\"chunk_id\":chunk_id})"
   ]
  },
  {
   "cell_type": "code",
   "execution_count": 38,
   "id": "62bb474a-0232-4e73-a323-247eaf300841",
   "metadata": {},
   "outputs": [
    {
     "data": {
      "text/plain": [
       "16"
      ]
     },
     "execution_count": 38,
     "metadata": {},
     "output_type": "execute_result"
    }
   ],
   "source": [
    "# Create the Pydantic Schema\n",
    "\n",
    "func = get_registry().get(\"openai\").create(name=\"text-embedding-3-small\")\n",
    "\n",
    "class Tool(LanceModel):\n",
    "    vector: Vector(func.ndims()) = func.VectorField()\n",
    "    description: str = func.SourceField()\n",
    "    name:str\n",
    "    category:str\n",
    "    chunk_id:str\n",
    "\n",
    "tool_table = db.create_table(\"tool_v2\",schema=Tool,mode=\"overwrite\")\n",
    "\n",
    "encoded_chunks = []\n",
    "for row in data:\n",
    "    name_and_description=f\"{row['description']}-{row['name']}\"\n",
    "    chunk_id = hashlib.md5(name_and_description.encode()).hexdigest()\n",
    "    encoded_chunks.append({**row,\"chunk_id\":chunk_id})\n",
    "\n",
    "def get_duplicate_chunk_ids(encoded_chunks):\n",
    "    tool_table = db.open_table(\"tool_v2\")\n",
    "    ids = [item['chunk_id'] for item in encoded_chunks]\n",
    "    \n",
    "    formatted_filter = ', '.join([f\"'{id}'\" for id in ids])\n",
    "    return set(tool_table.to_lance().to_table(filter=f\"chunk_id in ({formatted_filter})\", columns=['chunk_id']).to_pandas()['chunk_id'])\n",
    "\n",
    "def filter_duplicate_chunks(encoded_chunks,duplicate_ids):\n",
    "    return [item for item in encoded_chunks if item['chunk_id'] not in duplicate_ids]\n",
    "\n",
    "duplicate_ids = get_duplicate_chunk_ids(encoded_chunks)\n",
    "filtered_chunks = filter_duplicate_chunks(encoded_chunks,duplicate_ids)\n",
    "\n",
    "if filtered_chunks:\n",
    "    tool_table.add(filtered_chunks)\n",
    "tool_table.count_rows()"
   ]
  },
  {
   "cell_type": "markdown",
   "id": "5272d615-e2e1-4273-80c6-6e3155e99c2e",
   "metadata": {},
   "source": [
    "Before we proceed, let's clean up the database that we used for this section and remove it from our computer"
   ]
  },
  {
   "cell_type": "code",
   "execution_count": 39,
   "id": "165e1b8a-117c-4fb1-992d-5b48e927f1dc",
   "metadata": {},
   "outputs": [],
   "source": [
    "import shutil\n",
    "\n",
    "shutil.rmtree(\"./lance-db\")"
   ]
  },
  {
   "cell_type": "markdown",
   "id": "07a453b7-ee4e-404c-9beb-ae8120e41851",
   "metadata": {},
   "source": [
    "**Summary** : LanceDB provides an easy way to have FTS ( as a simple baseline ) and embedding search. It also handles batching and provides other functionality such as integrations with duckdb, arrow table and filtering out of the box."
   ]
  },
  {
   "cell_type": "markdown",
   "id": "da960f25-4d35-4a4e-bf97-fdc7a6b93f7d",
   "metadata": {},
   "source": [
    "# Metrics\n",
    "\n",
    "Now that we've figured out how our vector db works, let's see how we can evaluate our retrieval results.\n"
   ]
  },
  {
   "cell_type": "markdown",
   "id": "463c76a2-b2c6-4677-af12-9835be4f1be3",
   "metadata": {},
   "source": [
    "## Evaluating Our Data\n",
    "\n",
    "Let's see an example of how we can evaluate our data using the ms-marco dataset with real user queries"
   ]
  },
  {
   "cell_type": "code",
   "execution_count": 41,
   "id": "d6900466-44ea-49e3-9a1a-9440e209a017",
   "metadata": {},
   "outputs": [],
   "source": [
    "from itertools import product\n",
    "from lib.eval import calculate_reciprocal_rank,calculate_recall\n",
    "SIZES = [3,5,10,15,25]\n",
    "metrics = {\n",
    "    \"mrr\": calculate_reciprocal_rank,\n",
    "    \"recall\":calculate_recall\n",
    "}"
   ]
  },
  {
   "cell_type": "code",
   "execution_count": 43,
   "id": "26543905-9a81-44cf-9c2a-1dd52610f3e2",
   "metadata": {},
   "outputs": [
    {
     "name": "stderr",
     "output_type": "stream",
     "text": [
      "100%|███████████████████████████████████████████████████████████████████████████████████████████████████████████████████████████████████████████████████████████████████████████████████████████████████████████████████████████████████████████████████████████████████████████████████████████████████████████████████████████████████████████████████| 196/196 [00:04<00:00, 47.40it/s]\n"
     ]
    }
   ],
   "source": [
    "from tqdm import tqdm\n",
    "\n",
    "db = lancedb.connect(\"../lance\")\n",
    "table = db.open_table(\"ms_marco\")\n",
    "\n",
    "\n",
    "def load_jsonl_file(file_path):\n",
    "    data = []\n",
    "    with open(file_path, \"r\") as file:\n",
    "        for line in file:\n",
    "            json_obj = json.loads(line.strip())\n",
    "            data.append(json_obj)\n",
    "    return data\n",
    "\n",
    "def get_k_relevant_chunk_ids(table,query,number):\n",
    "    return [item['chunk_id'] for item in table.search(query,query_type=\"fts\").limit(number).to_list()]\n",
    "\n",
    "def score(preds,label):\n",
    "    return {\n",
    "        f\"{fn_name}@{size}\": round(metrics[fn_name](preds[:size],[label]),3)\n",
    "        for fn_name,size in product(metrics.keys(),SIZES)\n",
    "    }\n",
    "\n",
    "data = load_jsonl_file(\"../queries.jsonl\")\n",
    "\n",
    "scores = []\n",
    "for item in tqdm(data):\n",
    "    query = item['query']\n",
    "    selected_chunk = item['selected_passages'][0]['chunk_id']\n",
    "    retrieved_chunk_ids = get_k_relevant_chunk_ids(table,query,max(SIZES))\n",
    "    scores.append(score(retrieved_chunk_ids,selected_chunk))"
   ]
  },
  {
   "cell_type": "code",
   "execution_count": 44,
   "id": "46750f6e-ee70-46a6-82fd-9bced687dacf",
   "metadata": {},
   "outputs": [],
   "source": [
    "import pandas as pd\n",
    "\n",
    "df = pd.DataFrame(scores)"
   ]
  },
  {
   "cell_type": "code",
   "execution_count": 45,
   "id": "376dcc2c-f462-49d8-afaa-d7eea85d02e0",
   "metadata": {},
   "outputs": [
    {
     "data": {
      "text/plain": [
       "mrr@3        0.352857\n",
       "mrr@5        0.399541\n",
       "mrr@10       0.426036\n",
       "mrr@15       0.428352\n",
       "mrr@25       0.429378\n",
       "recall@3     0.515306\n",
       "recall@5     0.719388\n",
       "recall@10    0.903061\n",
       "recall@15    0.933673\n",
       "recall@25    0.954082\n",
       "dtype: float64"
      ]
     },
     "execution_count": 45,
     "metadata": {},
     "output_type": "execute_result"
    }
   ],
   "source": [
    "df.mean()"
   ]
  },
  {
   "cell_type": "markdown",
   "id": "d0c076e4-401c-4c25-a0a0-e33b0ee8d166",
   "metadata": {},
   "source": [
    "## Sample Metrics"
   ]
  },
  {
   "cell_type": "code",
   "execution_count": 46,
   "id": "b6476371-4d9c-432b-976e-da88ff5b3dc9",
   "metadata": {},
   "outputs": [],
   "source": [
    "db = lancedb.connect(\"../lance\")\n",
    "table = db.open_table(\"ms_marco\")\n",
    "table.create_fts_index(\"text\",replace=True)"
   ]
  },
  {
   "cell_type": "code",
   "execution_count": 47,
   "id": "c764e511-e2b5-462d-85f1-227bcce2518f",
   "metadata": {},
   "outputs": [
    {
     "data": {
      "text/html": [
       "<div>\n",
       "<style scoped>\n",
       "    .dataframe tbody tr th:only-of-type {\n",
       "        vertical-align: middle;\n",
       "    }\n",
       "\n",
       "    .dataframe tbody tr th {\n",
       "        vertical-align: top;\n",
       "    }\n",
       "\n",
       "    .dataframe thead th {\n",
       "        text-align: right;\n",
       "    }\n",
       "</style>\n",
       "<table border=\"1\" class=\"dataframe\">\n",
       "  <thead>\n",
       "    <tr style=\"text-align: right;\">\n",
       "      <th></th>\n",
       "      <th>chunk_id</th>\n",
       "      <th>text</th>\n",
       "      <th>_distance</th>\n",
       "    </tr>\n",
       "  </thead>\n",
       "  <tbody>\n",
       "    <tr>\n",
       "      <th>0</th>\n",
       "      <td>5dde98e64a2e9639975cbf032a20922f</td>\n",
       "      <td>your lungs are located on the right and left s...</td>\n",
       "      <td>0.608745</td>\n",
       "    </tr>\n",
       "    <tr>\n",
       "      <th>1</th>\n",
       "      <td>b40ab6024251c5c37f26f27adefc41c2</td>\n",
       "      <td>In humans, the lungs are located on either sid...</td>\n",
       "      <td>0.690447</td>\n",
       "    </tr>\n",
       "    <tr>\n",
       "      <th>2</th>\n",
       "      <td>de2eb296f2ddf0f9ca5e86301c13dcc3</td>\n",
       "      <td>© 2014 WebMD, LLC. All rights reserved. The lu...</td>\n",
       "      <td>0.713795</td>\n",
       "    </tr>\n",
       "    <tr>\n",
       "      <th>3</th>\n",
       "      <td>3fd0aabc0e8f2f53be360044b89f3887</td>\n",
       "      <td>1. Get help from a doctor now ›. under ribs: T...</td>\n",
       "      <td>0.763482</td>\n",
       "    </tr>\n",
       "  </tbody>\n",
       "</table>\n",
       "</div>"
      ],
      "text/plain": [
       "                           chunk_id  \\\n",
       "0  5dde98e64a2e9639975cbf032a20922f   \n",
       "1  b40ab6024251c5c37f26f27adefc41c2   \n",
       "2  de2eb296f2ddf0f9ca5e86301c13dcc3   \n",
       "3  3fd0aabc0e8f2f53be360044b89f3887   \n",
       "\n",
       "                                                text  _distance  \n",
       "0  your lungs are located on the right and left s...   0.608745  \n",
       "1  In humans, the lungs are located on either sid...   0.690447  \n",
       "2  © 2014 WebMD, LLC. All rights reserved. The lu...   0.713795  \n",
       "3  1. Get help from a doctor now ›. under ribs: T...   0.763482  "
      ]
     },
     "execution_count": 47,
     "metadata": {},
     "output_type": "execute_result"
    }
   ],
   "source": [
    "results = table.search(\"where are the lungs located?\").limit(4).select(['chunk_id','text']).to_pandas()\n",
    "results"
   ]
  },
  {
   "cell_type": "markdown",
   "id": "346b8cbe-7700-4990-8ae9-03f6ba301fbb",
   "metadata": {},
   "source": [
    "Given the results above, what metrics can we use to rank these potential retrieved results?\n",
    "\n",
    "- [0,1,2,3]\n",
    "- [3,2,1,0]\n",
    "- [1,2,3,4]\n",
    "\n",
    "Obviously, we want `0` to be ranked first because it has the result we want and we want to penalise cases where `0` is ranked lower or not present."
   ]
  },
  {
   "cell_type": "markdown",
   "id": "02ca76b5-ad7d-4397-8e15-93719263075c",
   "metadata": {},
   "source": [
    "### Reciprocal Rank\n",
    "\n",
    "Highlights the importance of quickly surfacing at least one relevant document, with an emphasis on the efficiency of relevance delivery. Matters a lot when there are only a few items we can show to the user at any given time.\n",
    "\n",
    "Formula is $$\\frac{1}{\\text{First Relevant Item}}$$\n"
   ]
  },
  {
   "cell_type": "code",
   "execution_count": 48,
   "id": "47b6588a-aa4b-4ca4-a4ef-4a54f0ad911e",
   "metadata": {},
   "outputs": [],
   "source": [
    "def calculate_reciprocal_rank(predictions, labels):\n",
    "    for index, prediction in enumerate(predictions):\n",
    "        if prediction in labels:\n",
    "            return 1 / (index + 1)\n",
    "    return 0"
   ]
  },
  {
   "cell_type": "code",
   "execution_count": 49,
   "id": "9a6e6edb-b1f7-4001-99b0-f21e63f9c507",
   "metadata": {},
   "outputs": [
    {
     "data": {
      "text/plain": [
       "0.5"
      ]
     },
     "execution_count": 49,
     "metadata": {},
     "output_type": "execute_result"
    }
   ],
   "source": [
    "predictions = [1,2,3,4,5]\n",
    "labels = [2,4]\n",
    "\n",
    "calculate_reciprocal_rank(predictions,labels) # 1/2 = 0.5 since earliest relevant item is at index=2"
   ]
  },
  {
   "cell_type": "code",
   "execution_count": 50,
   "id": "b4ddc2a5-cdea-48bf-bc73-21517cc9764d",
   "metadata": {},
   "outputs": [
    {
     "data": {
      "text/plain": [
       "0"
      ]
     },
     "execution_count": 50,
     "metadata": {},
     "output_type": "execute_result"
    }
   ],
   "source": [
    "predictions = [1,2,3,4,5]\n",
    "labels = [10,20]\n",
    "\n",
    "calculate_reciprocal_rank(predictions,labels) # No Relevant Items"
   ]
  },
  {
   "cell_type": "markdown",
   "id": "96ae2fe5-f0c4-409e-a338-99084b10a30c",
   "metadata": {},
   "source": [
    "### Recall\n",
    "\n",
    "Recall measures the system's capability to retrieve all relevant documents within the top K results, emphasizing the breadth of relevant information captured.\n",
    "\n",
    "Formula is $$\\frac{\\text{Number of Retrieved Relevant Items}}{\\text{Total Number of Relevant Items}}$$"
   ]
  },
  {
   "cell_type": "code",
   "execution_count": 51,
   "id": "6f15d227-d361-4e34-9c0f-7b4500123f3d",
   "metadata": {},
   "outputs": [],
   "source": [
    "def calculate_recall(predictions, labels):\n",
    "    correct_predictions = sum(1 for label in labels if label in predictions)\n",
    "    if labels:\n",
    "        return correct_predictions / len(labels)\n",
    "    return 0\n"
   ]
  },
  {
   "cell_type": "code",
   "execution_count": 52,
   "id": "d26afb77-8a47-4817-ac47-46e7612026f1",
   "metadata": {},
   "outputs": [
    {
     "data": {
      "text/plain": [
       "1.0"
      ]
     },
     "execution_count": 52,
     "metadata": {},
     "output_type": "execute_result"
    }
   ],
   "source": [
    "predictions = [1,2,3,4,5]\n",
    "labels = [2,4]\n",
    "\n",
    "calculate_recall(predictions,labels) # 2/2"
   ]
  },
  {
   "cell_type": "code",
   "execution_count": 53,
   "id": "99fb7223-800e-4ee1-8ede-7670dc813442",
   "metadata": {},
   "outputs": [
    {
     "data": {
      "text/plain": [
       "0.0"
      ]
     },
     "execution_count": 53,
     "metadata": {},
     "output_type": "execute_result"
    }
   ],
   "source": [
    "predictions = [1,2,3,4,5]\n",
    "labels = [200,20]\n",
    "\n",
    "calculate_recall(predictions,labels) # 0/2 = 0"
   ]
  },
  {
   "cell_type": "code",
   "execution_count": 54,
   "id": "3f8055b5-fb91-4b5d-b880-01e954768388",
   "metadata": {},
   "outputs": [
    {
     "data": {
      "text/plain": [
       "0.5"
      ]
     },
     "execution_count": 54,
     "metadata": {},
     "output_type": "execute_result"
    }
   ],
   "source": [
    "predictions = [1,2,3,4,5]\n",
    "labels = [2,10]\n",
    "\n",
    "calculate_recall(predictions,labels) # 0.5"
   ]
  },
  {
   "cell_type": "markdown",
   "id": "17eae666-ef65-4c3a-a671-4210ea98d630",
   "metadata": {},
   "source": [
    "These metrics allow us to be able to see the performance of our system and quantify the performance improvements of incremental improvements over time. There are more metrics that you can track ( see our article [here](https://jxnl.co/writing/2024/02/05/when-to-lgtm-at-k/) )\n",
    "\n",
    "In short, think of the two metrics as follows\n",
    "\n",
    "- Recall: How many relevant items did we surface?\n",
    "- Reciprocal Rank: Where was the first relevant item that we care about?\n",
    "\n",
    "Always remember to take these metrics at some value of `k` where `k` is the number of elements that we're evaluating this metrics for."
   ]
  },
  {
   "cell_type": "markdown",
   "id": "6e4715a5-a1ed-4108-b1dc-18d5e1c59110",
   "metadata": {},
   "source": [
    "# Cold Starting\n",
    "\n",
    "What can we do if we have no user queries and we're just starting out? Well, the easiest way is to use synthethic queries to automatically generate the data to do so!"
   ]
  },
  {
   "cell_type": "code",
   "execution_count": 58,
   "id": "47bffd5b-7e7a-4bae-8cb3-66a49baf587b",
   "metadata": {},
   "outputs": [
    {
     "name": "stderr",
     "output_type": "stream",
     "text": [
      "100%|███████████████████████████████████████████████████████████████████████████████████████████████████████████████████████████████████████████████████████████████████████████████████████████████████████████████████████████████████████████████████████████████████████████████████████████████████████████████████████████████████████████████████████| 3/3 [00:02<00:00,  1.15it/s]\n"
     ]
    },
    {
     "data": {
      "text/plain": [
       "[{'input': 'What is conversion disorder and how does it differ from factitious disorders and malingering?',\n",
       "  'source': 'Conversion disorder is a type of somatoform disorder where physical symptoms or signs are present that cannot be explained by a medical condition. Very importantly, unlike factitious disorders and malingering, the symptoms of somatoform disorders are not intentional or under conscious control of the patient'},\n",
       " {'input': 'What are the key features that differentiate conifers from other types of woody plants?',\n",
       "  'source': 'A conifer is a tree or shrub which produces distinctive cones as part of its sexual reproduction. These woody plants are classified among the gymnosperms, and they have a wide variety of uses, from trapping carbon in the environment to providing resins which can be used in the production of solvents. Several features beyond the cones set conifers apart from other types of woody plants. A conifer is typically evergreen, although some individuals are deciduous, and almost all conifers have needle or scale-like leaves'},\n",
       " {'input': 'What are some common names for Dascyllus aruanus?',\n",
       "  'source': 'Known by multiple common names, such as humbug damselfish, three-striped damselfish and white-tailed damselfish, Dascyllus aruanus is a feisty little fish that adapts well to aquarium life. Three-striped damselfish can be pugnacious and are better introduced at the latter stages of setting up a marine fish community. Remove as many of the three-striped damselfish fry as you want to try and raise to a rearing aquarium, with an absence of adult fish and invertebrates that might look upon the young fish as tasty morsels for the taking. Dascyllus aruanus is a worthy first-time breeding project for up-and-coming marine aquarists'}]"
      ]
     },
     "execution_count": 58,
     "metadata": {},
     "output_type": "execute_result"
    }
   ],
   "source": [
    "import instructor\n",
    "import openai\n",
    "from pydantic import BaseModel,Field\n",
    "from tqdm.asyncio import tqdm_asyncio as asyncio\n",
    "\n",
    "client = instructor.from_openai(openai.AsyncOpenAI())\n",
    "\n",
    "class QuestionAnswerPair(BaseModel):\n",
    "    \"\"\"\n",
    "    This model represents a pair of a question generated from a text chunk, its corresponding answer,\n",
    "    and the chain of thought leading to the answer. The chain of thought provides insight into how the answer\n",
    "    was derived from the question.\n",
    "    \"\"\"\n",
    "\n",
    "    chain_of_thought: str = Field(\n",
    "        ..., description=\"The reasoning process leading to the answer.\"\n",
    "    )\n",
    "    question: str = Field(\n",
    "        ..., description=\"The generated question from the text chunk.\"\n",
    "    )\n",
    "    answer: str = Field(..., description=\"The answer to the generated question.\")\n",
    "\n",
    "async def generate_question_batch(text_chunk_batch):\n",
    "    async def generate_question(text: str):\n",
    "        question = await client.chat.completions.create(\n",
    "            model=\"gpt-3.5-turbo\",\n",
    "            messages=[\n",
    "                {\n",
    "                    \"role\": \"system\",\n",
    "                    \"content\": \"You are a world class AI that excels at generating hypothethical search queries. You're about to be given a text snippet and asked to generate a search query which is specific to the specific text chunk that you'll be given. Make sure to use information from the text chunk.\",\n",
    "                },\n",
    "                {\"role\": \"user\", \"content\": f\"Here is the text chunk : {text}\"},\n",
    "            ],\n",
    "            response_model=QuestionAnswerPair,\n",
    "            max_retries=3,\n",
    "        )\n",
    "        return (question,text)\n",
    "\n",
    "    coros = [\n",
    "        generate_question(item) for item in text_chunk_batch\n",
    "    ]\n",
    "    res = await asyncio.gather(*coros)\n",
    "    return [{\"input\": item.question, \"source\": text} for item,text in res]\n",
    "\n",
    "chunks = [\n",
    "    \"Conversion disorder is a type of somatoform disorder where physical symptoms or signs are present that cannot be explained by a medical condition. Very importantly, unlike factitious disorders and malingering, the symptoms of somatoform disorders are not intentional or under conscious control of the patient\",\n",
    "    \"A conifer is a tree or shrub which produces distinctive cones as part of its sexual reproduction. These woody plants are classified among the gymnosperms, and they have a wide variety of uses, from trapping carbon in the environment to providing resins which can be used in the production of solvents. Several features beyond the cones set conifers apart from other types of woody plants. A conifer is typically evergreen, although some individuals are deciduous, and almost all conifers have needle or scale-like leaves\",\n",
    "    \"Known by multiple common names, such as humbug damselfish, three-striped damselfish and white-tailed damselfish, Dascyllus aruanus is a feisty little fish that adapts well to aquarium life. Three-striped damselfish can be pugnacious and are better introduced at the latter stages of setting up a marine fish community. Remove as many of the three-striped damselfish fry as you want to try and raise to a rearing aquarium, with an absence of adult fish and invertebrates that might look upon the young fish as tasty morsels for the taking. Dascyllus aruanus is a worthy first-time breeding project for up-and-coming marine aquarists\"\n",
    "]\n",
    "\n",
    "questions = await generate_question_batch(chunks)\n",
    "questions"
   ]
  },
  {
   "cell_type": "code",
   "execution_count": null,
   "id": "48a214a7-d41e-440d-9f27-ddbc388fe81b",
   "metadata": {},
   "outputs": [],
   "source": [
    "questions[0][\"input\"]"
   ]
  },
  {
   "cell_type": "markdown",
   "id": "9204c772-5eb4-4dc8-85a7-5fb3a615b13f",
   "metadata": {},
   "source": [
    "## Instructor\n",
    "\n",
    "Instructor is a library that provides structured output validation"
   ]
  },
  {
   "cell_type": "code",
   "execution_count": null,
   "id": "1eab83b4-0435-4be4-b75f-3099e3007b9f",
   "metadata": {},
   "outputs": [],
   "source": [
    "import instructor\n",
    "from pydantic import BaseModel\n",
    "from openai import OpenAI\n",
    "\n",
    "\n",
    "# Define your desired output structure\n",
    "class UserInfo(BaseModel):\n",
    "    name: str\n",
    "    age: int\n",
    "\n",
    "\n",
    "# Patch the OpenAI client\n",
    "client = instructor.from_openai(OpenAI())\n",
    "\n",
    "# Extract structured data from natural language\n",
    "user_info = client.chat.completions.create(\n",
    "    model=\"gpt-3.5-turbo\",\n",
    "    response_model=UserInfo,\n",
    "    messages=[{\"role\": \"user\", \"content\": \"John Doe is 30 years old.\"}],\n",
    ")\n",
    "\n",
    "print(user_info.name)\n",
    "print(user_info.age)"
   ]
  },
  {
   "cell_type": "markdown",
   "id": "36ca0338-a836-4e92-83f4-530eb4140b36",
   "metadata": {},
   "source": [
    "### Exercises"
   ]
  },
  {
   "cell_type": "markdown",
   "id": "a02f874f-a36f-433e-a552-71405b30fcf5",
   "metadata": {},
   "source": [
    "Now that we've seen what Instructor can do, let's work through a few different exercises to get a better understanding of the library"
   ]
  },
  {
   "cell_type": "markdown",
   "id": "6eb96d96-d0d3-4130-8326-52db498e9b56",
   "metadata": {},
   "source": [
    "#### Adding some docstrings\n",
    "\n",
    "Let's try creating a Pydantic Model that has docstrings and descriptions using the `Field` object.\n",
    "\n",
    "Modify the original `UserInfo` object to include a docstring and a description of each field"
   ]
  },
  {
   "cell_type": "code",
   "execution_count": 59,
   "id": "1860d4d9-0f24-4a9e-b0ef-ed4164756f6d",
   "metadata": {},
   "outputs": [],
   "source": [
    "from pydantic import Field"
   ]
  },
  {
   "cell_type": "code",
   "execution_count": 60,
   "id": "7f88c561-6963-487e-b037-67db291a8d8e",
   "metadata": {},
   "outputs": [],
   "source": [
    "class UserInfo(BaseModel):\n",
    "    \"\"\"\n",
    "    This is a model which represents a single user's information\n",
    "    \"\"\"\n",
    "    name: str = Field(...,description=\"This is the user's name which we have extracted\")\n",
    "    age: int = Field(...,description=\"This is the user's age which we have extracted\")\n"
   ]
  },
  {
   "cell_type": "code",
   "execution_count": 61,
   "id": "8486342b-63bb-4cd3-8e60-96c743dba089",
   "metadata": {},
   "outputs": [
    {
     "data": {
      "text/plain": [
       "{'description': \"This is a model which represents a single user's information\",\n",
       " 'properties': {'name': {'description': \"This is the user's name which we have extracted\",\n",
       "   'title': 'Name',\n",
       "   'type': 'string'},\n",
       "  'age': {'description': \"This is the user's age which we have extracted\",\n",
       "   'title': 'Age',\n",
       "   'type': 'integer'}},\n",
       " 'required': ['name', 'age'],\n",
       " 'title': 'UserInfo',\n",
       " 'type': 'object'}"
      ]
     },
     "execution_count": 61,
     "metadata": {},
     "output_type": "execute_result"
    }
   ],
   "source": [
    "UserInfo.model_json_schema()"
   ]
  },
  {
   "cell_type": "markdown",
   "id": "eaf7a843-efd4-459f-9719-302f0d81c4e0",
   "metadata": {},
   "source": [
    "#### Using simple validation\n",
    "\n",
    "Now that we've seen how to work with simple User Fields, let's start implementing validators. \n",
    "\n",
    "Validators are simple functions that run on the returned response from OpenAI. Using Validators, we can ensure that we have valid output. To show how a simple validator might work, let's try to implement a simple function which generates three categories given an article title. "
   ]
  },
  {
   "cell_type": "code",
   "execution_count": null,
   "id": "8f0b1d33-e158-409b-9718-732fd35785f1",
   "metadata": {},
   "outputs": [],
   "source": [
    "from pydantic import field_validator\n",
    "\n",
    "class Metadata(BaseModel):\n",
    "    \"\"\"\n",
    "    This is a model which represents a list of categories that we can classify the given article into\n",
    "    \"\"\"\n",
    "    categories: list[str] = Field(..., description=\"This is the list of categories that we can classify the given article into\")\n",
    "    keywords: list[str] = Field(...,description=\"These are some keywords that users might search for when looking for similar articles as the given article.\")\n",
    "\n",
    "    @field_validator('categories')\n",
    "    def check_categories_length(cls, v):\n",
    "        if not (3 <= len(v) <= 5):\n",
    "            raise ValueError('categories must have at least 3 elements and at most 5 elements')\n",
    "        return v\n"
   ]
  },
  {
   "cell_type": "code",
   "execution_count": null,
   "id": "3c2dd727-8eb5-4a9b-bc20-318334e07dda",
   "metadata": {},
   "outputs": [],
   "source": [
    "metadata = client.chat.completions.create(\n",
    "    model=\"gpt-3.5-turbo\",\n",
    "    response_model=Metadata,\n",
    "    messages=[{\"role\": \"system\", \"content\": \"You are a World Class classification Algorithm. You are about to be given an article title to classify. Make sure to return your response in the model provided\"},\n",
    "             {\"role\": \"user\", \"content\": \"Give me a sample article title for classification: The Future of Artificial Intelligence in Healthcare\"}\n",
    "             ],\n",
    ")\n",
    "metadata"
   ]
  },
  {
   "cell_type": "markdown",
   "id": "17113b2e-c9c4-443e-850a-4c4e30049abc",
   "metadata": {},
   "source": [
    "#### More Complex Types\n",
    "\n",
    "We've now seen how to use Pydantic to validate our returned types with instructor. Now let's try a more complex example\n",
    "\n",
    "Imagine you're trying to do some query parsing and you have a set of given tools\n",
    "\n",
    "1. Internet Search\n",
    "2. Database Queries\n",
    "3. Meeting Scheduler\n",
    "\n",
    "How might we represent this in a Pydantic Model?"
   ]
  },
  {
   "cell_type": "code",
   "execution_count": 71,
   "id": "7b062968-e7ce-4653-8b34-93dd7eac875f",
   "metadata": {},
   "outputs": [
    {
     "name": "stdout",
     "output_type": "stream",
     "text": [
      "actions=[CalendarQuery(id=1, calendar='Personal', start_date='03-06', end_date='09-06', dependencies=[]), InternetSearch(id=2, search_query='best Japanese restaurants in Downtown Toronto', dependencies=[])]\n"
     ]
    }
   ],
   "source": [
    "from datetime import datetime\n",
    "from typing import List,Literal,Union\n",
    "from pydantic import field_validator\n",
    "from openai import OpenAI\n",
    "import instructor\n",
    "\n",
    "client = instructor.from_openai(OpenAI())\n",
    "\n",
    "class InternetSearch(BaseModel):\n",
    "    \"\"\"\n",
    "    Model for representing an internet search query.\n",
    "    \n",
    "    \"\"\"\n",
    "    id: int = Field(..., description=\"Unique id of the query\")\n",
    "    search_query: str = Field(..., description=\"This is an internet search query that we will execute to identify relevant information.\")\n",
    "    dependencies: List[int] = Field(\n",
    "        default_factory=list,\n",
    "        description=\"List of sub questions that need to be answered before asking this question\",\n",
    "    )\n",
    "\n",
    "class CalendarQuery(BaseModel):\n",
    "    \"\"\"\n",
    "    A model that represents\n",
    "    \"\"\"\n",
    "    id: int = Field(..., description=\"Unique id of the query\")\n",
    "    calendar: Literal['Personal', 'Work'] = Field(..., description=\"The type of calendar (Personal or Work).\")\n",
    "    start_date: str = Field(..., description=\"The earliest date for events that we'd like to fetch for this calendar\")\n",
    "    end_date: str = Field(..., description=\"The latest date for events that we'd like to fetch for this calendar\")\n",
    "    dependencies: List[int] = Field(\n",
    "        default_factory=list,\n",
    "        description=\"List of sub questions that need to be answered before asking this question\",\n",
    "    )\n",
    "\n",
    "    @field_validator(\"start_date\", \"end_date\")\n",
    "    def validate_date_format(cls, value):\n",
    "        try:\n",
    "            datetime.strptime(value, \"%d-%m\")\n",
    "        except ValueError:\n",
    "            raise ValueError(\"Date must be in the format dd-mm\")\n",
    "        return value\n",
    "    \n",
    "\n",
    "class QueryModel(BaseModel):\n",
    "    \"\"\"\n",
    "    A list of actions to execute in order to complete the user's request\n",
    "    \"\"\"\n",
    "    actions: List[Union[InternetSearch, CalendarQuery]] = Field(..., description=\"A list of actions.\")\n",
    "\n",
    "\n",
    "def generate_actions(request: str) -> QueryModel:\n",
    "    \"\"\"\n",
    "    Generate a list of actions to schedule an appointment based on the user's request.\n",
    "    \"\"\"\n",
    "    return client.chat.completions.create(\n",
    "        model=\"gpt-4o\",\n",
    "        response_model=QueryModel,\n",
    "        messages=[\n",
    "            {\"role\": \"system\", \"content\": \"You are a scheduling assistant capable of breaking down complex user queries into actions to be executed. Do not answer the question but instead return a list of plausible steps in order to get enough information to answer the user's query\"},\n",
    "            {\"role\": \"assistant\", \"content\": \"The date today is 27 May 2024, Monday. The user lives in Downtown Toronto and generally likes Japanese Food\"},\n",
    "            {\"role\": \"user\", \"content\": request}\n",
    "        ],\n",
    "        max_retries=3\n",
    "    )\n",
    "\n",
    "request = \"I'd like to grab dinner with Daniel sometime next week. Can you help me find some time in my calendar and some potential dinner spots?\"\n",
    "actions = generate_actions(request)\n",
    "print(actions)"
   ]
  },
  {
   "cell_type": "code",
   "execution_count": null,
   "id": "7e771aeb-2818-49f2-82cd-e16764cecc81",
   "metadata": {},
   "outputs": [],
   "source": []
  },
  {
   "cell_type": "code",
   "execution_count": null,
   "id": "a862688d-b482-4698-bac0-8684c98f0753",
   "metadata": {},
   "outputs": [],
   "source": []
  },
  {
   "cell_type": "code",
   "execution_count": null,
   "id": "5c33c1d4-4081-4579-9a7a-a4209e3d9e0c",
   "metadata": {},
   "outputs": [],
   "source": []
  },
  {
   "cell_type": "code",
   "execution_count": null,
   "id": "13cc0694-928f-4cb7-8737-98397a281ba9",
   "metadata": {},
   "outputs": [],
   "source": []
  }
 ],
 "metadata": {
  "kernelspec": {
   "display_name": "Rag Workshop",
   "language": "python",
   "name": "rag_workshop"
  },
  "language_info": {
   "codemirror_mode": {
    "name": "ipython",
    "version": 3
   },
   "file_extension": ".py",
   "mimetype": "text/x-python",
   "name": "python",
   "nbconvert_exporter": "python",
   "pygments_lexer": "ipython3",
   "version": "3.12.3"
  }
 },
 "nbformat": 4,
 "nbformat_minor": 5
}
